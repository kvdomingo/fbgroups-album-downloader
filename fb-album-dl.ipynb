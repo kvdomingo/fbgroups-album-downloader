{
 "cells": [
  {
   "cell_type": "code",
   "execution_count": 1,
   "metadata": {
    "ExecuteTime": {
     "end_time": "2020-03-13T16:39:21.022342Z",
     "start_time": "2020-03-13T16:39:20.735117Z"
    }
   },
   "outputs": [],
   "source": [
    "import wget\n",
    "from time import sleep as wait\n",
    "from selenium import webdriver\n",
    "from selenium.common.exceptions import ElementNotInteractableException\n",
    "from bs4 import BeautifulSoup"
   ]
  },
  {
   "cell_type": "code",
   "execution_count": 2,
   "metadata": {
    "ExecuteTime": {
     "end_time": "2020-03-13T16:39:29.160895Z",
     "start_time": "2020-03-13T16:39:21.870118Z"
    }
   },
   "outputs": [],
   "source": [
    "driver = webdriver.Firefox()"
   ]
  },
  {
   "cell_type": "code",
   "execution_count": 5,
   "metadata": {
    "ExecuteTime": {
     "end_time": "2020-03-13T16:42:22.052435Z",
     "start_time": "2020-03-13T16:41:11.250881Z"
    }
   },
   "outputs": [
    {
     "name": "stdout",
     "output_type": "stream",
     "text": [
      "100% [............................................................................] 132643 / 132643"
     ]
    }
   ],
   "source": [
    "url = 'https://www.facebook.com/media/set/?set=oa.605294383385647&type=3'\n",
    "driver.get(url)\n",
    "captions = []\n",
    "\n",
    "with open('captions.txt', 'w', encoding='utf-8') as f:\n",
    "    for i, thumb in enumerate(driver.find_elements_by_class_name('uiMediaThumb')):\n",
    "        thumb.click()\n",
    "        wait(1.5)\n",
    "        see_more = driver.find_elements_by_class_name('see_more_link_inner')\n",
    "        if len(see_more) > 0:\n",
    "            see_more[0].click()\n",
    "            caption = driver.find_element_by_class_name('text_exposed').get_attribute('innerHTML')\n",
    "        else:\n",
    "            caption = driver.find_element_by_class_name('hasCaption').get_attribute('innerHTML')\n",
    "        caption = caption.replace('<br>', '')\n",
    "        if len(see_more) > 0:\n",
    "            caption = caption.replace('<span class=\"text_exposed_hide\">...</span><span class=\"text_exposed_show\">', '')\n",
    "        end_span = caption.find('</span>')\n",
    "        if end_span != -1:\n",
    "            caption = caption[:end_span]\n",
    "        purl = driver.find_element_by_class_name('spotlight').get_attribute('src')\n",
    "        wget.download(purl, f'{i}.jpg')\n",
    "        f.write(f'{i}: {caption}\\n')\n",
    "        driver.find_elements_by_class_name('_xlt')[0].click()\n",
    "        wait(0.5)"
   ]
  }
 ],
 "metadata": {
  "kernelspec": {
   "display_name": "Python 3",
   "language": "python",
   "name": "python3"
  },
  "language_info": {
   "codemirror_mode": {
    "name": "ipython",
    "version": 3
   },
   "file_extension": ".py",
   "mimetype": "text/x-python",
   "name": "python",
   "nbconvert_exporter": "python",
   "pygments_lexer": "ipython3",
   "version": "3.8.2"
  },
  "latex_envs": {
   "LaTeX_envs_menu_present": true,
   "autoclose": true,
   "autocomplete": false,
   "bibliofile": "biblio.bib",
   "cite_by": "apalike",
   "current_citInitial": 1,
   "eqLabelWithNumbers": true,
   "eqNumInitial": 1,
   "hotkeys": {
    "equation": "Ctrl-E",
    "itemize": "Ctrl-I"
   },
   "labels_anchors": false,
   "latex_user_defs": false,
   "report_style_numbering": false,
   "user_envs_cfg": false
  },
  "toc": {
   "base_numbering": 1,
   "nav_menu": {},
   "number_sections": true,
   "sideBar": true,
   "skip_h1_title": false,
   "title_cell": "Table of Contents",
   "title_sidebar": "Contents",
   "toc_cell": false,
   "toc_position": {},
   "toc_section_display": true,
   "toc_window_display": false
  },
  "varInspector": {
   "cols": {
    "lenName": 16,
    "lenType": 16,
    "lenVar": 40
   },
   "kernels_config": {
    "python": {
     "delete_cmd_postfix": "",
     "delete_cmd_prefix": "del ",
     "library": "var_list.py",
     "varRefreshCmd": "print(var_dic_list())"
    },
    "r": {
     "delete_cmd_postfix": ") ",
     "delete_cmd_prefix": "rm(",
     "library": "var_list.r",
     "varRefreshCmd": "cat(var_dic_list()) "
    }
   },
   "types_to_exclude": [
    "module",
    "function",
    "builtin_function_or_method",
    "instance",
    "_Feature"
   ],
   "window_display": false
  }
 },
 "nbformat": 4,
 "nbformat_minor": 4
}
